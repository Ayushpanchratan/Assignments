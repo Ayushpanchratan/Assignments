{
 "cells": [
  {
   "cell_type": "code",
   "execution_count": 1,
   "id": "dutch-soldier",
   "metadata": {},
   "outputs": [],
   "source": [
    "import cv2 \n",
    "import numpy as np "
   ]
  },
  {
   "cell_type": "code",
   "execution_count": 2,
   "id": "molecular-sherman",
   "metadata": {},
   "outputs": [],
   "source": [
    "image1 = cv2.imread('img.png') \n"
   ]
  },
  {
   "cell_type": "code",
   "execution_count": 3,
   "id": "ancient-bottom",
   "metadata": {},
   "outputs": [],
   "source": [
    "img = cv2.cvtColor(image1, cv2.COLOR_BGR2GRAY) \n"
   ]
  },
  {
   "cell_type": "code",
   "execution_count": 4,
   "id": "further-yugoslavia",
   "metadata": {},
   "outputs": [],
   "source": [
    "thresh1 = cv2.adaptiveThreshold(img, 255, cv2.ADAPTIVE_THRESH_MEAN_C,\n",
    "                                cv2.THRESH_BINARY, 199, 5) \n",
    "\n",
    "thresh2 = cv2.adaptiveThreshold(img, 255, cv2.ADAPTIVE_THRESH_GAUSSIAN_C,\n",
    "                                cv2.THRESH_BINARY, 199, 5) \n"
   ]
  },
  {
   "cell_type": "code",
   "execution_count": 5,
   "id": "furnished-skating",
   "metadata": {},
   "outputs": [],
   "source": [
    "cv2.imshow('Adaptive Mean', thresh1) \n",
    "cv2.imshow('Adaptive Gaussian', thresh2) \n"
   ]
  },
  {
   "cell_type": "code",
   "execution_count": null,
   "id": "fossil-provincial",
   "metadata": {},
   "outputs": [],
   "source": [
    "if cv2.waitKey(0) & 0xff == 27:\n",
    "    cv2.destroyAllWindows() \n"
   ]
  },
  {
   "cell_type": "code",
   "execution_count": null,
   "id": "operating-reception",
   "metadata": {},
   "outputs": [],
   "source": []
  }
 ],
 "metadata": {
  "kernelspec": {
   "display_name": "Python 3",
   "language": "python",
   "name": "python3"
  },
  "language_info": {
   "codemirror_mode": {
    "name": "ipython",
    "version": 3
   },
   "file_extension": ".py",
   "mimetype": "text/x-python",
   "name": "python",
   "nbconvert_exporter": "python",
   "pygments_lexer": "ipython3",
   "version": "3.6.9"
  }
 },
 "nbformat": 4,
 "nbformat_minor": 5
}
